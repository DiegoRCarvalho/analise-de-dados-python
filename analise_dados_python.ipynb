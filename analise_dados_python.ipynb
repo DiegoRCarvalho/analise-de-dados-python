{
 "cells": [
  {
   "cell_type": "markdown",
   "metadata": {},
   "source": [
    "# Analise de Dados em Python\n",
    "\n",
    "## Sumário\n",
    "\n",
    "1. [Variáveis](#variáveis)\n",
    "2. [Estrutura de decisão](#estrutura-de-decisão)\n",
    "3. [Estruturas de repetição](#estruturas-de-repetição) \n",
    "    1. [while](#while)\n",
    "    2. [for](#for)\n",
    "    3. [brake](#brake)\n",
    "    4. [continue](#continue)\n",
    "4. [Listas](#listas)\n"
   ]
  },
  {
   "cell_type": "markdown",
   "metadata": {},
   "source": [
    "## <a>Variáveis</a>\n",
    "\n",
    "- Inteiro, real, string, boleano\n",
    "- É case sensitive\n",
    "- Boleano tem a primeira letra maiúscula (True / False)\n",
    "- Converter entre tipos"
   ]
  },
  {
   "cell_type": "code",
   "execution_count": 10,
   "metadata": {},
   "outputs": [
    {
     "name": "stdout",
     "output_type": "stream",
     "text": [
      "<class 'str'>\n",
      "4\n",
      "<class 'int'>\n",
      "4\n"
     ]
    }
   ],
   "source": [
    "# Converter de string para inteiro\n",
    "var = input(\"Informe o valor\")\n",
    "print(type(var))\n",
    "print(var)\n",
    "var = int(var)\n",
    "print(type(var))\n",
    "print(var)"
   ]
  },
  {
   "cell_type": "code",
   "execution_count": 11,
   "metadata": {},
   "outputs": [
    {
     "name": "stdout",
     "output_type": "stream",
     "text": [
      "<class 'str'>\n",
      "9\n",
      "<class 'float'>\n",
      "9.0\n"
     ]
    }
   ],
   "source": [
    "# Converter de string para real\n",
    "var = input(\"Informe o valor\")\n",
    "print(type(var))\n",
    "print(var)\n",
    "var = float(var)\n",
    "print(type(var))\n",
    "print(var)"
   ]
  },
  {
   "cell_type": "markdown",
   "metadata": {},
   "source": [
    "## <a>Estrutura de decisão</a>\n",
    "\n",
    "Atenção a identação do código"
   ]
  },
  {
   "cell_type": "code",
   "execution_count": 19,
   "metadata": {},
   "outputs": [
    {
     "name": "stdout",
     "output_type": "stream",
     "text": [
      "Aprovado\n"
     ]
    }
   ],
   "source": [
    "nota = input(\"Informe nota\")\n",
    "nota =float(nota)\n",
    "if nota < 0:\n",
    "\tprint(\"Nota inválida!\")\n",
    "elif nota < 4:\n",
    "\tprint(\"Reprovado\")\n",
    "elif nota >= 4 and nota < 6:\n",
    "\tprint(\"Recuperação\")\n",
    "else:\n",
    "\tprint(\"Aprovado\")"
   ]
  },
  {
   "cell_type": "markdown",
   "metadata": {},
   "source": [
    "## <a>Estruturas de repetição</a>"
   ]
  },
  {
   "cell_type": "markdown",
   "metadata": {},
   "source": [
    "### <a>while</a>"
   ]
  },
  {
   "cell_type": "code",
   "execution_count": 20,
   "metadata": {},
   "outputs": [
    {
     "name": "stdout",
     "output_type": "stream",
     "text": [
      "1\n",
      "2\n",
      "3\n",
      "4\n",
      "5\n"
     ]
    }
   ],
   "source": [
    "count = 1\n",
    "while count <= 5:\n",
    "\tprint(count)\n",
    "\tcount += 1"
   ]
  },
  {
   "cell_type": "markdown",
   "metadata": {},
   "source": [
    "### <a>for</a>\n",
    "\n",
    "- For decrescente;\n",
    "- Range (inicio, parada, incremento);\n",
    "- O python ignora o último valor de intervalos, no exemplo abaixo a parada será no número 0."
   ]
  },
  {
   "cell_type": "code",
   "execution_count": 22,
   "metadata": {},
   "outputs": [
    {
     "name": "stdout",
     "output_type": "stream",
     "text": [
      "10\n",
      "9\n",
      "8\n",
      "7\n",
      "6\n",
      "5\n",
      "4\n",
      "3\n",
      "2\n",
      "1\n"
     ]
    }
   ],
   "source": [
    "for n in range(10, 0, -1):\n",
    "\tprint(n)"
   ]
  },
  {
   "cell_type": "code",
   "execution_count": 23,
   "metadata": {},
   "outputs": [
    {
     "name": "stdout",
     "output_type": "stream",
     "text": [
      "0\n",
      "1\n",
      "2\n",
      "3\n",
      "4\n",
      "5\n",
      "6\n",
      "7\n",
      "8\n",
      "9\n"
     ]
    }
   ],
   "source": [
    "for n in range(0, 10):\n",
    "\tprint(n)"
   ]
  },
  {
   "cell_type": "markdown",
   "metadata": {},
   "source": [
    "### <a>brake</a>\n",
    "\n",
    "- O brake irá interromper o laço quando o n for igual a 4."
   ]
  },
  {
   "cell_type": "code",
   "execution_count": 24,
   "metadata": {},
   "outputs": [
    {
     "name": "stdout",
     "output_type": "stream",
     "text": [
      "0\n",
      "1\n",
      "2\n",
      "3\n"
     ]
    }
   ],
   "source": [
    "for n in range(0, 10):\n",
    "\tif n==4:\n",
    "\t\tbreak\n",
    "\tprint(n)"
   ]
  },
  {
   "cell_type": "markdown",
   "metadata": {},
   "source": [
    "### <a>continue</a>\n",
    "\n",
    "- O continue irá pular a impressão quando o n for igual a 4."
   ]
  },
  {
   "cell_type": "code",
   "execution_count": 25,
   "metadata": {},
   "outputs": [
    {
     "name": "stdout",
     "output_type": "stream",
     "text": [
      "0\n",
      "1\n",
      "2\n",
      "3\n",
      "5\n",
      "6\n",
      "7\n",
      "8\n",
      "9\n"
     ]
    }
   ],
   "source": [
    "for n in range(0, 10):\n",
    "\tif n==4:\n",
    "\t\tcontinue\n",
    "\tprint(n)"
   ]
  },
  {
   "cell_type": "markdown",
   "metadata": {},
   "source": [
    "## <a>Listas</a>\n",
    "\n",
    "- Formas de criar listas\n",
    "- Um lista apenas com um tipo de dado"
   ]
  },
  {
   "cell_type": "code",
   "execution_count": 26,
   "metadata": {},
   "outputs": [
    {
     "name": "stdout",
     "output_type": "stream",
     "text": [
      "[1, 2, 3, 4, 5]\n"
     ]
    }
   ],
   "source": [
    "lst = [1,2,3,4,5]\n",
    "print(lst)"
   ]
  }
 ],
 "metadata": {
  "kernelspec": {
   "display_name": "Python 3",
   "language": "python",
   "name": "python3"
  },
  "language_info": {
   "codemirror_mode": {
    "name": "ipython",
    "version": 3
   },
   "file_extension": ".py",
   "mimetype": "text/x-python",
   "name": "python",
   "nbconvert_exporter": "python",
   "pygments_lexer": "ipython3",
   "version": "3.10.12"
  }
 },
 "nbformat": 4,
 "nbformat_minor": 2
}
